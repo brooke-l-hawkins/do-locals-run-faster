{
 "cells": [
  {
   "cell_type": "markdown",
   "metadata": {},
   "source": [
    "# Do locals run faster?\n",
    "\n",
    "## A comparison of in-town, in-state, and out-of-state runners for two events at the Probility Ann Arbor 2019 race.\n",
    "\n",
    "### Background\n",
    "\n",
    "Running a marathon (26 miles) or half marathon (13 miles) is an endurance event that requires training and preparation. Runners often compete in an official race, which could take place in their home city or a travel destination. When I ran a half marathon in a new town last year, I trained for six months in advance, but I was still unprepared for the climate and race course (not to mention tired from traveling). I wondered, do runners have a home-field advantage when running in their own home city or state?\n",
    "\n",
    "### Methods\n",
    "\n",
    "I used two datasets from one race to answer this question: recorded run times for the [half marathon](https://runsignup.com/Race/Results/29595/#resultSetId-147305) and [marathon](https://runsignup.com/Race/Results/29595/#resultSetId-147304) events at the Probility Ann Arbor 2019 race. I copied the data tables from the website and pasted them into sheets in Microsoft Excel.\n",
    "\n",
    "To answer my question, I plotted run times for half marathon and marathon events in three categories of **local status**:\n",
    "1. In Town: runners with home addresses in Ann Arbor, Michigan (blue)\n",
    "2. In State: runners with home addresses in the state of Michigan, but in towns other than Ann Arbor (green)\n",
    "3. Out of State: runners with home addresses in states other than Michigan (gray)"
   ]
  },
  {
   "cell_type": "code",
   "execution_count": null,
   "metadata": {},
   "outputs": [],
   "source": [
    "# import libraries\n",
    "import numpy as np\n",
    "import pandas as pd\n",
    "import matplotlib.pyplot as plt\n",
    "import seaborn as sns"
   ]
  },
  {
   "cell_type": "code",
   "execution_count": null,
   "metadata": {},
   "outputs": [],
   "source": [
    "# load and clean data\n",
    "def clean_data(race_event):\n",
    "    \n",
    "    # load data\n",
    "    df = pd.read_excel('race_data.xlsx', sheet_name=race_event, header=0, skiprows=[1], usecols=['City', 'State', 'Chip'])\n",
    "\n",
    "    # add event column\n",
    "    df['Event'] = race_event\n",
    "    \n",
    "    # remove records without city, state, or chip time\n",
    "    df.dropna(inplace=True)\n",
    "\n",
    "    # add column for local status\n",
    "    # runner from Ann Arbor, Michigan = 2 = in-town\n",
    "    # runner from Michigan = 1 = in-state\n",
    "    # runner from out of state = 0 = out-of-state\n",
    "    in_city = (df['City'] == 'Ann Arbor').astype('int')\n",
    "    in_state = (df['State'] == 'MI').astype('int')\n",
    "    local = (in_city + in_state)\n",
    "    df['Local'] = local.replace([0,1,2], ['Out of State', 'In State', 'In Town'])\n",
    "    \n",
    "    # convert datetimes to hours it took to complete the race\n",
    "    hourify = lambda x : x.hour + (x.minute/60) + (x.second/3600)\n",
    "    df['Time'] = pd.Series(list(map(hourify, df['Chip'])))\n",
    "    \n",
    "    # drop city, state, and chip columns\n",
    "    df.drop(columns=['City', 'State', 'Chip'], inplace=True)\n",
    "    \n",
    "    # remove records without event, local status, or time in hours\n",
    "    df.dropna(inplace=True)\n",
    "    \n",
    "    # return data\n",
    "    return df"
   ]
  },
  {
   "cell_type": "code",
   "execution_count": null,
   "metadata": {},
   "outputs": [],
   "source": [
    "# load marathon data\n",
    "df_26mi = clean_data('Marathon')\n",
    "# load 10K data\n",
    "df_13mi = clean_data('HalfMarathon')"
   ]
  },
  {
   "cell_type": "markdown",
   "metadata": {},
   "source": [
    "### Results"
   ]
  },
  {
   "cell_type": "code",
   "execution_count": null,
   "metadata": {},
   "outputs": [],
   "source": [
    "# set color palette\n",
    "colors = ['dodgerblue', 'seagreen', 'dimgrey']\n",
    "sns.set_palette(colors)\n",
    "# set tick mark style\n",
    "sns.set_style({'xtick.bottom':False, 'ytick.left':False})"
   ]
  },
  {
   "cell_type": "code",
   "execution_count": null,
   "metadata": {
    "scrolled": true
   },
   "outputs": [],
   "source": [
    "# create figure\n",
    "plt.figure(figsize=(7, 7))\n",
    "\n",
    "# designate subplot with 2 rows, 1 column; current axis is 1st axis\n",
    "plt.subplot(2, 1, 1)\n",
    "\n",
    "# create swarm plot\n",
    "ax1 = sns.swarmplot('Local', 'Time', data = df_13mi, order=['In Town', 'In State', 'Out of State'], size=3)\n",
    "# add y-axis label and remove x-axis label\n",
    "ax1.set(ylabel='Time (hours)', xlabel='', xticklabels=[])\n",
    "# add title\n",
    "ax1.title.set_text('Half Marathon')\n",
    "# remove spines\n",
    "sns.despine()\n",
    "\n",
    "# designate subplot with 2 rows, 1 column; current axis is 2nd axis\n",
    "plt.subplot(2, 1, 2)\n",
    "\n",
    "# create swarm plot\n",
    "ax2 = sns.swarmplot('Local', 'Time', data = df_26mi, order=['In Town', 'In State', 'Out of State'], size=4)\n",
    "# add y-axis label and remove x-axis label\n",
    "ax2.set(ylabel='Time (hours)', xlabel='')\n",
    "# add title\n",
    "ax2.title.set_text('Marathon')\n",
    "# remove spines\n",
    "sns.despine()\n",
    "\n",
    "# save figure\n",
    "plt.savefig('do_locals_run_faster.png', dpi=100, facecolor= 'white', edgecolor='none')"
   ]
  },
  {
   "cell_type": "markdown",
   "metadata": {},
   "source": [
    "My visualization shows that the distribution of run times across these categories of local status. For the half marathon event (top panel), runners from all categories have similar run times. Runners from Ann Arbor (blue), Michigan (green), and out of state (gray) finish the race in 2 hours on average. For the marathon event (bottom panel), runners from Ann Arbor (blue) finish the race in 4 hours on average, which is slightly faster than runners from Michigan (green) or out of state (gray), who finish in 4.5 hours on average.\n",
    "\n",
    "### Conclusion\n",
    "\n",
    "**Do local runners run faster than non-local runners?** \n",
    "\n",
    "In the half marathon event, there is no apparent difference between runners from Ann Arbor, Michigan, and out of state. In the marathon event, it appears that runners from Ann Arbor run slightly faster than runners from other towns in Michigan and other states. This data represents runners in the Probility Ann Arbor 2019 race, and may not be generalizable to other races.\n",
    "\n",
    "### Design Principles\n",
    "\n",
    "I incorporated principles from Edward Tufte and Alberto Cairo in designing this graphic. Based on Tufte's high data-ink ratio, I minimized the use of color, redundant x-axis labels, tick marks, and plot borders. Based on Cairo's principle of functionality, I chose between a boxplot, violin plot and swarm plot to evaluate the distribution of quantitative data across three categories. Based on Cairo's principle of truthfulness, I chose to visualize the data with a swarm plot, which depcits the distribution of individual run times and differing sample sizes for each category, unlike a violin plot or boxplot."
   ]
  },
  {
   "cell_type": "code",
   "execution_count": null,
   "metadata": {},
   "outputs": [],
   "source": []
  }
 ],
 "metadata": {
  "kernelspec": {
   "display_name": "Python 3",
   "language": "python",
   "name": "python3"
  },
  "language_info": {
   "codemirror_mode": {
    "name": "ipython",
    "version": 3
   },
   "file_extension": ".py",
   "mimetype": "text/x-python",
   "name": "python",
   "nbconvert_exporter": "python",
   "pygments_lexer": "ipython3",
   "version": "3.7.7"
  }
 },
 "nbformat": 4,
 "nbformat_minor": 1
}
